{
 "cells": [
  {
   "cell_type": "markdown",
   "metadata": {
    "colab_type": "text",
    "id": "wgIxTF2qeFXF"
   },
   "source": [
    "This notebook illustrates some of the issues with existing NER model in spacy and its sensitivity to text structure."
   ]
  },
  {
   "cell_type": "code",
   "execution_count": 1,
   "metadata": {
    "colab": {},
    "colab_type": "code",
    "id": "S-RUTmkacmyy",
    "outputId": "33a15076-1a64-476f-f265-5e0d90c3314f"
   },
   "outputs": [
    {
     "name": "stdout",
     "output_type": "stream",
     "text": [
      "Collecting en-core-web-lg==3.2.0\n",
      "  Downloading https://github.com/explosion/spacy-models/releases/download/en_core_web_lg-3.2.0/en_core_web_lg-3.2.0-py3-none-any.whl (777.4 MB)\n",
      "     |████████████████████████████████| 777.4 MB 4.3 kB/s                        | 294.7 MB 48.5 MB/s eta 0:00:10              | 423.9 MB 23.9 MB/s eta 0:00:15████████████████████▎           | 492.1 MB 40.7 MB/s eta 0:00:08�█▉        | 577.7 MB 11.4 MB/s eta 0:00:18��███████▍       | 592.4 MB 11.4 MB/s eta 0:00:17MB 6.7 MB/s eta 0:00:08 MB 6.7 MB/s eta 0:00:08 ███████▎| 760.6 MB 9.2 MB/s eta 0:00:02 ��█████████████████████████▍| 761.6 MB 9.2 MB/s eta 0:00:02 ███████▋| 766.9 MB 635 kB/s eta 0:00:17 ███████▉| 773.4 MB 635 kB/s eta 0:00:07 \n",
      "\u001b[?25hRequirement already satisfied: spacy<3.3.0,>=3.2.0 in /Users/achilleas.voutsas/Development/books/practical-nlp-code/.venv/lib/python3.9/site-packages (from en-core-web-lg==3.2.0) (3.2.1)\n",
      "Requirement already satisfied: pydantic!=1.8,!=1.8.1,<1.9.0,>=1.7.4 in /Users/achilleas.voutsas/Development/books/practical-nlp-code/.venv/lib/python3.9/site-packages (from spacy<3.3.0,>=3.2.0->en-core-web-lg==3.2.0) (1.8.2)\n",
      "Requirement already satisfied: packaging>=20.0 in /Users/achilleas.voutsas/Development/books/practical-nlp-code/.venv/lib/python3.9/site-packages (from spacy<3.3.0,>=3.2.0->en-core-web-lg==3.2.0) (21.3)\n",
      "Requirement already satisfied: numpy>=1.15.0 in /Users/achilleas.voutsas/Development/books/practical-nlp-code/.venv/lib/python3.9/site-packages (from spacy<3.3.0,>=3.2.0->en-core-web-lg==3.2.0) (1.19.5)\n",
      "Requirement already satisfied: cymem<2.1.0,>=2.0.2 in /Users/achilleas.voutsas/Development/books/practical-nlp-code/.venv/lib/python3.9/site-packages (from spacy<3.3.0,>=3.2.0->en-core-web-lg==3.2.0) (2.0.6)\n",
      "Requirement already satisfied: preshed<3.1.0,>=3.0.2 in /Users/achilleas.voutsas/Development/books/practical-nlp-code/.venv/lib/python3.9/site-packages (from spacy<3.3.0,>=3.2.0->en-core-web-lg==3.2.0) (3.0.6)\n",
      "Requirement already satisfied: jinja2 in /Users/achilleas.voutsas/Development/books/practical-nlp-code/.venv/lib/python3.9/site-packages (from spacy<3.3.0,>=3.2.0->en-core-web-lg==3.2.0) (3.0.3)\n",
      "Requirement already satisfied: spacy-loggers<2.0.0,>=1.0.0 in /Users/achilleas.voutsas/Development/books/practical-nlp-code/.venv/lib/python3.9/site-packages (from spacy<3.3.0,>=3.2.0->en-core-web-lg==3.2.0) (1.0.1)\n",
      "Requirement already satisfied: pathy>=0.3.5 in /Users/achilleas.voutsas/Development/books/practical-nlp-code/.venv/lib/python3.9/site-packages (from spacy<3.3.0,>=3.2.0->en-core-web-lg==3.2.0) (0.6.1)\n",
      "Requirement already satisfied: murmurhash<1.1.0,>=0.28.0 in /Users/achilleas.voutsas/Development/books/practical-nlp-code/.venv/lib/python3.9/site-packages (from spacy<3.3.0,>=3.2.0->en-core-web-lg==3.2.0) (1.0.6)\n",
      "Requirement already satisfied: thinc<8.1.0,>=8.0.12 in /Users/achilleas.voutsas/Development/books/practical-nlp-code/.venv/lib/python3.9/site-packages (from spacy<3.3.0,>=3.2.0->en-core-web-lg==3.2.0) (8.0.13)\n",
      "Requirement already satisfied: langcodes<4.0.0,>=3.2.0 in /Users/achilleas.voutsas/Development/books/practical-nlp-code/.venv/lib/python3.9/site-packages (from spacy<3.3.0,>=3.2.0->en-core-web-lg==3.2.0) (3.3.0)\n",
      "Requirement already satisfied: tqdm<5.0.0,>=4.38.0 in /Users/achilleas.voutsas/Development/books/practical-nlp-code/.venv/lib/python3.9/site-packages (from spacy<3.3.0,>=3.2.0->en-core-web-lg==3.2.0) (4.62.3)\n",
      "Requirement already satisfied: setuptools in /Users/achilleas.voutsas/Development/books/practical-nlp-code/.venv/lib/python3.9/site-packages (from spacy<3.3.0,>=3.2.0->en-core-web-lg==3.2.0) (60.5.0)\n",
      "Requirement already satisfied: blis<0.8.0,>=0.4.0 in /Users/achilleas.voutsas/Development/books/practical-nlp-code/.venv/lib/python3.9/site-packages (from spacy<3.3.0,>=3.2.0->en-core-web-lg==3.2.0) (0.7.5)\n",
      "Requirement already satisfied: typer<0.5.0,>=0.3.0 in /Users/achilleas.voutsas/Development/books/practical-nlp-code/.venv/lib/python3.9/site-packages (from spacy<3.3.0,>=3.2.0->en-core-web-lg==3.2.0) (0.4.0)\n",
      "Requirement already satisfied: catalogue<2.1.0,>=2.0.6 in /Users/achilleas.voutsas/Development/books/practical-nlp-code/.venv/lib/python3.9/site-packages (from spacy<3.3.0,>=3.2.0->en-core-web-lg==3.2.0) (2.0.6)\n",
      "Requirement already satisfied: requests<3.0.0,>=2.13.0 in /Users/achilleas.voutsas/Development/books/practical-nlp-code/.venv/lib/python3.9/site-packages (from spacy<3.3.0,>=3.2.0->en-core-web-lg==3.2.0) (2.26.0)\n",
      "Requirement already satisfied: spacy-legacy<3.1.0,>=3.0.8 in /Users/achilleas.voutsas/Development/books/practical-nlp-code/.venv/lib/python3.9/site-packages (from spacy<3.3.0,>=3.2.0->en-core-web-lg==3.2.0) (3.0.8)\n",
      "Requirement already satisfied: wasabi<1.1.0,>=0.8.1 in /Users/achilleas.voutsas/Development/books/practical-nlp-code/.venv/lib/python3.9/site-packages (from spacy<3.3.0,>=3.2.0->en-core-web-lg==3.2.0) (0.9.0)\n",
      "Requirement already satisfied: srsly<3.0.0,>=2.4.1 in /Users/achilleas.voutsas/Development/books/practical-nlp-code/.venv/lib/python3.9/site-packages (from spacy<3.3.0,>=3.2.0->en-core-web-lg==3.2.0) (2.4.2)\n",
      "Requirement already satisfied: pyparsing!=3.0.5,>=2.0.2 in /Users/achilleas.voutsas/Development/books/practical-nlp-code/.venv/lib/python3.9/site-packages (from packaging>=20.0->spacy<3.3.0,>=3.2.0->en-core-web-lg==3.2.0) (3.0.6)\n",
      "Requirement already satisfied: smart-open<6.0.0,>=5.0.0 in /Users/achilleas.voutsas/Development/books/practical-nlp-code/.venv/lib/python3.9/site-packages (from pathy>=0.3.5->spacy<3.3.0,>=3.2.0->en-core-web-lg==3.2.0) (5.2.1)\n",
      "Requirement already satisfied: typing-extensions>=3.7.4.3 in /Users/achilleas.voutsas/Development/books/practical-nlp-code/.venv/lib/python3.9/site-packages (from pydantic!=1.8,!=1.8.1,<1.9.0,>=1.7.4->spacy<3.3.0,>=3.2.0->en-core-web-lg==3.2.0) (4.0.1)\n",
      "Requirement already satisfied: idna<4,>=2.5 in /Users/achilleas.voutsas/Development/books/practical-nlp-code/.venv/lib/python3.9/site-packages (from requests<3.0.0,>=2.13.0->spacy<3.3.0,>=3.2.0->en-core-web-lg==3.2.0) (3.3)\n",
      "Requirement already satisfied: certifi>=2017.4.17 in /Users/achilleas.voutsas/Development/books/practical-nlp-code/.venv/lib/python3.9/site-packages (from requests<3.0.0,>=2.13.0->spacy<3.3.0,>=3.2.0->en-core-web-lg==3.2.0) (2021.10.8)\n",
      "Requirement already satisfied: charset-normalizer~=2.0.0 in /Users/achilleas.voutsas/Development/books/practical-nlp-code/.venv/lib/python3.9/site-packages (from requests<3.0.0,>=2.13.0->spacy<3.3.0,>=3.2.0->en-core-web-lg==3.2.0) (2.0.10)\n",
      "Requirement already satisfied: urllib3<1.27,>=1.21.1 in /Users/achilleas.voutsas/Development/books/practical-nlp-code/.venv/lib/python3.9/site-packages (from requests<3.0.0,>=2.13.0->spacy<3.3.0,>=3.2.0->en-core-web-lg==3.2.0) (1.26.8)\n",
      "Requirement already satisfied: click<9.0.0,>=7.1.1 in /Users/achilleas.voutsas/Development/books/practical-nlp-code/.venv/lib/python3.9/site-packages (from typer<0.5.0,>=0.3.0->spacy<3.3.0,>=3.2.0->en-core-web-lg==3.2.0) (8.0.3)\n",
      "Requirement already satisfied: MarkupSafe>=2.0 in /Users/achilleas.voutsas/Development/books/practical-nlp-code/.venv/lib/python3.9/site-packages (from jinja2->spacy<3.3.0,>=3.2.0->en-core-web-lg==3.2.0) (2.0.1)\n",
      "Installing collected packages: en-core-web-lg\n",
      "Successfully installed en-core-web-lg-3.2.0\n",
      "\u001b[38;5;2m✔ Download and installation successful\u001b[0m\n",
      "You can now load the package via spacy.load('en_core_web_lg')\n",
      "SAN FRANCISCO \t GPE\n",
      "Apple \t ORG\n",
      "last year \t DATE\n",
      "$252 billion \t MONEY\n",
      "$100 billion \t MONEY\n",
      "Tuesday \t DATE\n",
      "Apple \t ORG\n",
      "$75 billion \t MONEY\n",
      "first \t ORDINAL\n",
      "Luca Maestri \t PERSON\n",
      "Apple \t ORG\n"
     ]
    }
   ],
   "source": [
    "#Problems of NER illustration through Spacy.\n",
    "!python -m spacy download en_core_web_lg\n",
    "\n",
    "import spacy\n",
    "nlp = spacy.load(\"en_core_web_lg\")\n",
    "mytext = \"\"\"SAN FRANCISCO — Shortly after Apple used a new tax law last year to bring back most of the $252 billion it had held abroad, the company said it would buy back $100 billion of its stock.\n",
    "\n",
    "On Tuesday, Apple announced its plans for another major chunk of the money: It will buy back a further $75 billion in stock.\n",
    "\n",
    "“Our first priority is always looking after the business and making sure we continue to grow and invest,” Luca Maestri, Apple’s finance chief, said in an interview. “If there is excess cash, then obviously we want to return it to investors.”\n",
    "\n",
    "Apple’s record buybacks should be welcome news to shareholders, as the stock price is likely to climb. But the buybacks could also expose the company to more criticism that the tax cuts it received have mostly benefited investors and executives.\n",
    "\"\"\"\n",
    "doc = nlp(mytext)\n",
    "for ent in doc.ents:\n",
    "    print(ent.text, \"\\t\", ent.label_)"
   ]
  },
  {
   "cell_type": "code",
   "execution_count": 2,
   "metadata": {
    "colab": {},
    "colab_type": "code",
    "id": "Y26qfij2cmzS",
    "outputId": "1c773897-db05-4435-8910-aab5cda83e00"
   },
   "outputs": [
    {
     "name": "stdout",
     "output_type": "stream",
     "text": [
      "SAN FRANCISCO — Shortly after Apple used a new tax law last year to bring back most of the $252 billion it had held abroad, the company said it would buy back $100 billion of its stock.\n",
      "***End of sent****\n",
      "\n",
      "\n",
      "\n",
      "***End of sent****\n",
      "On Tuesday, Apple announced its plans for another major chunk of the money: It will buy back a further $75 billion in stock.\n",
      "***End of sent****\n",
      "\n",
      "\n",
      "\n",
      "***End of sent****\n",
      "“Our first priority is always looking after the business and making sure we continue to grow and invest,” Luca Maestri, Apple’s finance chief, said in an interview.\n",
      "***End of sent****\n",
      "“If there is excess cash, then obviously we want to return it to investors.”\n",
      "***End of sent****\n",
      "\n",
      "\n",
      "Apple’s record buybacks should be welcome news to shareholders, as the stock price is likely to climb.\n",
      "***End of sent****\n",
      "But the buybacks could also expose the company to more criticism that the tax cuts it received have mostly benefited investors and executives.\n",
      "***End of sent****\n",
      "\n",
      "\n",
      "***End of sent****\n",
      "Total sentences:  9\n"
     ]
    }
   ],
   "source": [
    "count=0 #We see 6 sentences as humans in this text. How many does Spacy see? \n",
    "for sent in doc.sents:\n",
    "    print(sent.text)\n",
    "    print(\"***End of sent****\")\n",
    "    count = count+1\n",
    "print(\"Total sentences: \", count)"
   ]
  },
  {
   "cell_type": "code",
   "execution_count": null,
   "metadata": {
    "colab": {},
    "colab_type": "code",
    "id": "_SuaVwXfcmzZ"
   },
   "outputs": [],
   "source": []
  }
 ],
 "metadata": {
  "colab": {
   "name": "NERIssues.ipynb",
   "provenance": []
  },
  "interpreter": {
   "hash": "619001f8728ba9dad59958eae274f8f21d3ce483245c740887b530b1739ec7ec"
  },
  "kernelspec": {
   "display_name": "Python 2",
   "language": "python",
   "name": "python3"
  },
  "language_info": {
   "codemirror_mode": {
    "name": "ipython",
    "version": 3
   },
   "file_extension": ".py",
   "mimetype": "text/x-python",
   "name": "python",
   "nbconvert_exporter": "python",
   "pygments_lexer": "ipython3",
   "version": "3.9.9"
  }
 },
 "nbformat": 4,
 "nbformat_minor": 1
}
